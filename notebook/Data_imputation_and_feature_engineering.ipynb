{
 "cells": [
  {
   "cell_type": "code",
   "execution_count": 1,
   "metadata": {
    "collapsed": true
   },
   "outputs": [],
   "source": [
    "%matplotlib inline\n",
    "import os, sys, time\n",
    "import pandas as pd\n",
    "import numpy as np\n",
    "import pickle\n",
    "import matplotlib.pyplot as plt\n",
    "from __future__ import print_function"
   ]
  },
  {
   "cell_type": "code",
   "execution_count": 2,
   "metadata": {},
   "outputs": [
    {
     "name": "stdout",
     "output_type": "stream",
     "text": [
      "Shape of the training dataset: (595212, 59)\n",
      "Shape of the test dataset: (892816, 58)\n"
     ]
    },
    {
     "data": {
      "text/html": [
       "<div>\n",
       "<style>\n",
       "    .dataframe thead tr:only-child th {\n",
       "        text-align: right;\n",
       "    }\n",
       "\n",
       "    .dataframe thead th {\n",
       "        text-align: left;\n",
       "    }\n",
       "\n",
       "    .dataframe tbody tr th {\n",
       "        vertical-align: top;\n",
       "    }\n",
       "</style>\n",
       "<table border=\"1\" class=\"dataframe\">\n",
       "  <thead>\n",
       "    <tr style=\"text-align: right;\">\n",
       "      <th></th>\n",
       "      <th>id</th>\n",
       "      <th>target</th>\n",
       "      <th>ps_ind_01</th>\n",
       "      <th>ps_ind_02_cat</th>\n",
       "      <th>ps_ind_03</th>\n",
       "      <th>ps_ind_04_cat</th>\n",
       "      <th>ps_ind_05_cat</th>\n",
       "      <th>ps_ind_06_bin</th>\n",
       "      <th>ps_ind_07_bin</th>\n",
       "      <th>ps_ind_08_bin</th>\n",
       "      <th>...</th>\n",
       "      <th>ps_calc_11</th>\n",
       "      <th>ps_calc_12</th>\n",
       "      <th>ps_calc_13</th>\n",
       "      <th>ps_calc_14</th>\n",
       "      <th>ps_calc_15_bin</th>\n",
       "      <th>ps_calc_16_bin</th>\n",
       "      <th>ps_calc_17_bin</th>\n",
       "      <th>ps_calc_18_bin</th>\n",
       "      <th>ps_calc_19_bin</th>\n",
       "      <th>ps_calc_20_bin</th>\n",
       "    </tr>\n",
       "  </thead>\n",
       "  <tbody>\n",
       "    <tr>\n",
       "      <th>0</th>\n",
       "      <td>7</td>\n",
       "      <td>0</td>\n",
       "      <td>2</td>\n",
       "      <td>2</td>\n",
       "      <td>5</td>\n",
       "      <td>1</td>\n",
       "      <td>0</td>\n",
       "      <td>0</td>\n",
       "      <td>1</td>\n",
       "      <td>0</td>\n",
       "      <td>...</td>\n",
       "      <td>9</td>\n",
       "      <td>1</td>\n",
       "      <td>5</td>\n",
       "      <td>8</td>\n",
       "      <td>0</td>\n",
       "      <td>1</td>\n",
       "      <td>1</td>\n",
       "      <td>0</td>\n",
       "      <td>0</td>\n",
       "      <td>1</td>\n",
       "    </tr>\n",
       "    <tr>\n",
       "      <th>1</th>\n",
       "      <td>9</td>\n",
       "      <td>0</td>\n",
       "      <td>1</td>\n",
       "      <td>1</td>\n",
       "      <td>7</td>\n",
       "      <td>0</td>\n",
       "      <td>0</td>\n",
       "      <td>0</td>\n",
       "      <td>0</td>\n",
       "      <td>1</td>\n",
       "      <td>...</td>\n",
       "      <td>3</td>\n",
       "      <td>1</td>\n",
       "      <td>1</td>\n",
       "      <td>9</td>\n",
       "      <td>0</td>\n",
       "      <td>1</td>\n",
       "      <td>1</td>\n",
       "      <td>0</td>\n",
       "      <td>1</td>\n",
       "      <td>0</td>\n",
       "    </tr>\n",
       "    <tr>\n",
       "      <th>2</th>\n",
       "      <td>13</td>\n",
       "      <td>0</td>\n",
       "      <td>5</td>\n",
       "      <td>4</td>\n",
       "      <td>9</td>\n",
       "      <td>1</td>\n",
       "      <td>0</td>\n",
       "      <td>0</td>\n",
       "      <td>0</td>\n",
       "      <td>1</td>\n",
       "      <td>...</td>\n",
       "      <td>4</td>\n",
       "      <td>2</td>\n",
       "      <td>7</td>\n",
       "      <td>7</td>\n",
       "      <td>0</td>\n",
       "      <td>1</td>\n",
       "      <td>1</td>\n",
       "      <td>0</td>\n",
       "      <td>1</td>\n",
       "      <td>0</td>\n",
       "    </tr>\n",
       "    <tr>\n",
       "      <th>3</th>\n",
       "      <td>16</td>\n",
       "      <td>0</td>\n",
       "      <td>0</td>\n",
       "      <td>1</td>\n",
       "      <td>2</td>\n",
       "      <td>0</td>\n",
       "      <td>0</td>\n",
       "      <td>1</td>\n",
       "      <td>0</td>\n",
       "      <td>0</td>\n",
       "      <td>...</td>\n",
       "      <td>2</td>\n",
       "      <td>2</td>\n",
       "      <td>4</td>\n",
       "      <td>9</td>\n",
       "      <td>0</td>\n",
       "      <td>0</td>\n",
       "      <td>0</td>\n",
       "      <td>0</td>\n",
       "      <td>0</td>\n",
       "      <td>0</td>\n",
       "    </tr>\n",
       "    <tr>\n",
       "      <th>4</th>\n",
       "      <td>17</td>\n",
       "      <td>0</td>\n",
       "      <td>0</td>\n",
       "      <td>2</td>\n",
       "      <td>0</td>\n",
       "      <td>1</td>\n",
       "      <td>0</td>\n",
       "      <td>1</td>\n",
       "      <td>0</td>\n",
       "      <td>0</td>\n",
       "      <td>...</td>\n",
       "      <td>3</td>\n",
       "      <td>1</td>\n",
       "      <td>1</td>\n",
       "      <td>3</td>\n",
       "      <td>0</td>\n",
       "      <td>0</td>\n",
       "      <td>0</td>\n",
       "      <td>1</td>\n",
       "      <td>1</td>\n",
       "      <td>0</td>\n",
       "    </tr>\n",
       "  </tbody>\n",
       "</table>\n",
       "<p>5 rows × 59 columns</p>\n",
       "</div>"
      ],
      "text/plain": [
       "   id  target  ps_ind_01  ps_ind_02_cat  ps_ind_03  ps_ind_04_cat  \\\n",
       "0   7       0          2              2          5              1   \n",
       "1   9       0          1              1          7              0   \n",
       "2  13       0          5              4          9              1   \n",
       "3  16       0          0              1          2              0   \n",
       "4  17       0          0              2          0              1   \n",
       "\n",
       "   ps_ind_05_cat  ps_ind_06_bin  ps_ind_07_bin  ps_ind_08_bin       ...        \\\n",
       "0              0              0              1              0       ...         \n",
       "1              0              0              0              1       ...         \n",
       "2              0              0              0              1       ...         \n",
       "3              0              1              0              0       ...         \n",
       "4              0              1              0              0       ...         \n",
       "\n",
       "   ps_calc_11  ps_calc_12  ps_calc_13  ps_calc_14  ps_calc_15_bin  \\\n",
       "0           9           1           5           8               0   \n",
       "1           3           1           1           9               0   \n",
       "2           4           2           7           7               0   \n",
       "3           2           2           4           9               0   \n",
       "4           3           1           1           3               0   \n",
       "\n",
       "   ps_calc_16_bin  ps_calc_17_bin  ps_calc_18_bin  ps_calc_19_bin  \\\n",
       "0               1               1               0               0   \n",
       "1               1               1               0               1   \n",
       "2               1               1               0               1   \n",
       "3               0               0               0               0   \n",
       "4               0               0               1               1   \n",
       "\n",
       "   ps_calc_20_bin  \n",
       "0               1  \n",
       "1               0  \n",
       "2               0  \n",
       "3               0  \n",
       "4               0  \n",
       "\n",
       "[5 rows x 59 columns]"
      ]
     },
     "execution_count": 2,
     "metadata": {},
     "output_type": "execute_result"
    }
   ],
   "source": [
    "# load the raw data\n",
    "df_train = pd.read_csv('../data/train.csv')\n",
    "df_test = pd.read_csv('../data/test.csv')\n",
    "print('Shape of the training dataset: {}'.format(df_train.shape))\n",
    "print('Shape of the test dataset: {}'.format(df_test.shape))\n",
    "df_train.head()"
   ]
  },
  {
   "cell_type": "code",
   "execution_count": 3,
   "metadata": {},
   "outputs": [
    {
     "data": {
      "text/plain": [
       "0    573518\n",
       "1     21694\n",
       "Name: target, dtype: int64"
      ]
     },
     "execution_count": 3,
     "metadata": {},
     "output_type": "execute_result"
    }
   ],
   "source": [
    "# is there class imbalance? The answer is very much...\n",
    "df_train['target'].value_counts()"
   ]
  },
  {
   "cell_type": "code",
   "execution_count": 4,
   "metadata": {
    "collapsed": true
   },
   "outputs": [],
   "source": [
    "# what features are we looking at?\n",
    "# there are 57 features in total (=59-2)\n",
    "all_features = df_train.columns.tolist()\n",
    "all_features.remove('target')\n",
    "all_features.remove('id')\n",
    "bin_features = []\n",
    "cat_features = []\n",
    "other_features = []\n",
    "for col in df_train.columns[2:]:  # exclude 'id' and 'target'\n",
    "    if col.split('_')[-1] == 'bin':\n",
    "        bin_features.append(col)\n",
    "    elif col.split('_')[-1] == 'cat':\n",
    "        cat_features.append(col)\n",
    "    else:\n",
    "        other_features.append(col)"
   ]
  },
  {
   "cell_type": "code",
   "execution_count": 5,
   "metadata": {},
   "outputs": [
    {
     "data": {
      "text/plain": [
       "17"
      ]
     },
     "execution_count": 5,
     "metadata": {},
     "output_type": "execute_result"
    }
   ],
   "source": [
    "len(bin_features)"
   ]
  },
  {
   "cell_type": "code",
   "execution_count": 6,
   "metadata": {},
   "outputs": [
    {
     "data": {
      "text/plain": [
       "14"
      ]
     },
     "execution_count": 6,
     "metadata": {},
     "output_type": "execute_result"
    }
   ],
   "source": [
    "len(cat_features)"
   ]
  },
  {
   "cell_type": "code",
   "execution_count": 7,
   "metadata": {},
   "outputs": [
    {
     "data": {
      "text/html": [
       "<div>\n",
       "<style>\n",
       "    .dataframe thead tr:only-child th {\n",
       "        text-align: right;\n",
       "    }\n",
       "\n",
       "    .dataframe thead th {\n",
       "        text-align: left;\n",
       "    }\n",
       "\n",
       "    .dataframe tbody tr th {\n",
       "        vertical-align: top;\n",
       "    }\n",
       "</style>\n",
       "<table border=\"1\" class=\"dataframe\">\n",
       "  <thead>\n",
       "    <tr style=\"text-align: right;\">\n",
       "      <th></th>\n",
       "      <th>0</th>\n",
       "      <th>1</th>\n",
       "      <th>total</th>\n",
       "    </tr>\n",
       "  </thead>\n",
       "  <tbody>\n",
       "    <tr>\n",
       "      <th>ps_car_03_cat</th>\n",
       "      <td>69.358067</td>\n",
       "      <td>61.998709</td>\n",
       "      <td>69.089837</td>\n",
       "    </tr>\n",
       "    <tr>\n",
       "      <th>ps_car_05_cat</th>\n",
       "      <td>45.002772</td>\n",
       "      <td>38.960081</td>\n",
       "      <td>44.782531</td>\n",
       "    </tr>\n",
       "    <tr>\n",
       "      <th>ps_reg_03</th>\n",
       "      <td>18.257840</td>\n",
       "      <td>14.105283</td>\n",
       "      <td>18.106490</td>\n",
       "    </tr>\n",
       "    <tr>\n",
       "      <th>ps_car_14</th>\n",
       "      <td>7.130901</td>\n",
       "      <td>7.942288</td>\n",
       "      <td>7.160474</td>\n",
       "    </tr>\n",
       "    <tr>\n",
       "      <th>ps_car_07_cat</th>\n",
       "      <td>1.846673</td>\n",
       "      <td>4.139393</td>\n",
       "      <td>1.930237</td>\n",
       "    </tr>\n",
       "  </tbody>\n",
       "</table>\n",
       "</div>"
      ],
      "text/plain": [
       "                       0          1      total\n",
       "ps_car_03_cat  69.358067  61.998709  69.089837\n",
       "ps_car_05_cat  45.002772  38.960081  44.782531\n",
       "ps_reg_03      18.257840  14.105283  18.106490\n",
       "ps_car_14       7.130901   7.942288   7.160474\n",
       "ps_car_07_cat   1.846673   4.139393   1.930237"
      ]
     },
     "execution_count": 7,
     "metadata": {},
     "output_type": "execute_result"
    }
   ],
   "source": [
    "# how many missing values are we looking at?\n",
    "# percentage by classes\n",
    "df_tmp = df_train[['target']+all_features].groupby('target')[all_features]\\\n",
    ".apply(lambda x: 100*np.sum(x == -1)/len(x)).T\n",
    "# percentage by all classes\n",
    "df_tmp2 = (df_train[all_features].apply(lambda x: x == -1).sum() / df_train.shape[0] * 100)\\\n",
    ".to_frame()\n",
    "df_tmp2.rename(columns={0: 'total'}, inplace=True)\n",
    "# merge!\n",
    "df_tmp = df_tmp.merge(df_tmp2, left_index=True, right_index=True)\n",
    "del df_tmp2\n",
    "df_tmp.sort_values(by='total', ascending=False, inplace=True)\n",
    "df_tmp.head()"
   ]
  },
  {
   "cell_type": "markdown",
   "metadata": {},
   "source": [
    "## Dealing with missing values\n",
    "Before we dive deep into the model, we need to deal with the missing values first. The simpliest method is just to ignore all the samples that as **any** missing value in there. However, by doing so, we reduce the total sample size from ~ 600k to less than 100k. \n",
    "\n",
    "Therefore, we need a better way to impute the missing values. Jingfei's current methodolgy is to treat the missing value as a new category, for the cases of binary and categorical features. (How about continuous features?)\n",
    "\n",
    "Another possibility is to geuss the missing values intelligently. To start, we can fill the missing binary and categorical values with the most frequency entries, and fill the missing continuous with their medians.\n",
    "\n",
    "There are much more can be done with regard to data imputation: for example, to train regression models on the missing variable, from other varibles. However, we need to keep in mind how to carry the regression to test data or new data, with missing entries. \n",
    "\n",
    "We have to pay special attention to those features with many missing values, namely, `ps_car_03_cat`, `ps_cat_05_cat`, `ps_reg_03`, etc.\n",
    "\n",
    "### Metric\n",
    "\n",
    "When comparing different imputation methods, we need have a unified metric to evaluate their success. The simplest metric can be the testing error - same as how we evaluate different models, but in this case, the model should stay the same. The default choice will be xgboost."
   ]
  },
  {
   "cell_type": "code",
   "execution_count": 8,
   "metadata": {
    "collapsed": true
   },
   "outputs": [],
   "source": [
    "# replace -1 with nan for easier handling\n",
    "df_train.replace({-1: np.float('NaN')}, inplace=True)\n",
    "\n",
    "# helper function to get the best and last training, valid gini coefficients\n",
    "def get_gini_stats(eval_results):\n",
    "    last_training, last_valid = [], []\n",
    "    best_training, best_valid = [], []\n",
    "    for x in eval_results:\n",
    "        last_training.append(x['train']['gini'][-1])\n",
    "        last_valid.append(x['valid']['gini'][-1])\n",
    "        best_training.append(max(x['train']['gini']))\n",
    "        best_valid.append(max(x['valid']['gini']))\n",
    "    return last_training, last_valid, best_training, best_valid"
   ]
  },
  {
   "cell_type": "markdown",
   "metadata": {},
   "source": [
    "### Method 1: mode and median\n",
    "In the simplest case, let's fill the missing binary / categorical values with their mode, and continoues variables with their median."
   ]
  },
  {
   "cell_type": "code",
   "execution_count": 9,
   "metadata": {
    "collapsed": true
   },
   "outputs": [],
   "source": [
    "# can also be done with sklearn\n",
    "# http://scikit-learn.org/stable/modules/generated/sklearn.preprocessing.Imputer.html\n",
    "fills = {}  # make the dict so that we can fill test data\n",
    "for c in df_train.columns[2:]:\n",
    "    if c.endswith(('bin', 'cat')):\n",
    "        fills[c] = df_train[c].mode()[0]\n",
    "    else: \n",
    "        fills[c] = df_train[c].median()\n",
    "df_train_impute_1 = df_train.fillna(fills)\n",
    "# df_test_impute_1 = df_test.fillna(fills)"
   ]
  },
  {
   "cell_type": "code",
   "execution_count": 10,
   "metadata": {},
   "outputs": [
    {
     "name": "stdout",
     "output_type": "stream",
     "text": [
      "Splitted training/test, and applied standard scaler.\n",
      "Total number of training samples: 565451\n"
     ]
    }
   ],
   "source": [
    "%run '../py/models_ccy.py'\n",
    "clf = my_xgb(df_train_impute_1[all_features], \n",
    "             df_train_impute_1['target'].astype(int, inplace=True))\n",
    "clf.input_scaling(ratio=0.05)"
   ]
  },
  {
   "cell_type": "code",
   "execution_count": 11,
   "metadata": {},
   "outputs": [
    {
     "name": "stdout",
     "output_type": "stream",
     "text": [
      "Performing 5 fold CV\n"
     ]
    },
    {
     "name": "stderr",
     "output_type": "stream",
     "text": [
      "//anaconda/envs/python27/lib/python2.7/site-packages/sklearn/cross_validation.py:44: DeprecationWarning: This module was deprecated in version 0.18 in favor of the model_selection module into which all the refactored classes and functions are moved. Also note that the interface of the new CV iterators are different from that of this module. This module will be removed in 0.20.\n",
      "  \"This module will be removed in 0.20.\", DeprecationWarning)\n"
     ]
    },
    {
     "name": "stdout",
     "output_type": "stream",
     "text": [
      "Fold 1 of 5\n",
      "class weight is: 26\n",
      "[0]\ttrain-gini:0.225807\tvalid-gini:0.211856\n",
      "Multiple eval metrics have been passed: 'valid-gini' will be used for early stopping.\n",
      "\n",
      "Will train until valid-gini hasn't improved in 100 rounds.\n",
      "[100]\ttrain-gini:0.388041\tvalid-gini:0.276855\n",
      "[200]\ttrain-gini:0.462206\tvalid-gini:0.274221\n",
      "Stopping. Best iteration:\n",
      "[108]\ttrain-gini:0.394901\tvalid-gini:0.278067\n",
      "\n",
      "Fold 2 of 5\n",
      "class weight is: 26\n",
      "[0]\ttrain-gini:0.226864\tvalid-gini:0.193245\n",
      "Multiple eval metrics have been passed: 'valid-gini' will be used for early stopping.\n",
      "\n",
      "Will train until valid-gini hasn't improved in 100 rounds.\n",
      "[100]\ttrain-gini:0.388274\tvalid-gini:0.268205\n",
      "[200]\ttrain-gini:0.464047\tvalid-gini:0.267004\n",
      "Stopping. Best iteration:\n",
      "[125]\ttrain-gini:0.408428\tvalid-gini:0.269496\n",
      "\n",
      "Fold 3 of 5\n",
      "class weight is: 26\n",
      "[0]\ttrain-gini:0.227315\tvalid-gini:0.195788\n",
      "Multiple eval metrics have been passed: 'valid-gini' will be used for early stopping.\n",
      "\n",
      "Will train until valid-gini hasn't improved in 100 rounds.\n",
      "[100]\ttrain-gini:0.388016\tvalid-gini:0.268227\n",
      "[200]\ttrain-gini:0.463849\tvalid-gini:0.266418\n",
      "Stopping. Best iteration:\n",
      "[115]\ttrain-gini:0.401528\tvalid-gini:0.269012\n",
      "\n",
      "Fold 4 of 5\n",
      "class weight is: 26\n",
      "[0]\ttrain-gini:0.22905\tvalid-gini:0.20051\n",
      "Multiple eval metrics have been passed: 'valid-gini' will be used for early stopping.\n",
      "\n",
      "Will train until valid-gini hasn't improved in 100 rounds.\n",
      "[100]\ttrain-gini:0.388094\tvalid-gini:0.267654\n",
      "[200]\ttrain-gini:0.461273\tvalid-gini:0.269476\n",
      "Stopping. Best iteration:\n",
      "[196]\ttrain-gini:0.459096\tvalid-gini:0.269921\n",
      "\n",
      "Fold 5 of 5\n",
      "class weight is: 26\n",
      "[0]\ttrain-gini:0.231354\tvalid-gini:0.203812\n",
      "Multiple eval metrics have been passed: 'valid-gini' will be used for early stopping.\n",
      "\n",
      "Will train until valid-gini hasn't improved in 100 rounds.\n",
      "[100]\ttrain-gini:0.388834\tvalid-gini:0.272121\n",
      "[200]\ttrain-gini:0.460062\tvalid-gini:0.273331\n",
      "Stopping. Best iteration:\n",
      "[118]\ttrain-gini:0.402374\tvalid-gini:0.273615\n",
      "\n"
     ]
    }
   ],
   "source": [
    "# clf.one_hot_encoding()\n",
    "models_impute_1, eval_results_impute_1 = clf.fit(one_hot=False)"
   ]
  },
  {
   "cell_type": "code",
   "execution_count": 12,
   "metadata": {},
   "outputs": [
    {
     "name": "stdout",
     "output_type": "stream",
     "text": [
      "0.2689892\n",
      "0.00348325740651\n"
     ]
    }
   ],
   "source": [
    "last_training, last_valid, best_training, best_valid = get_gini_stats(eval_results_impute_1)\n",
    "print(np.mean(last_valid))\n",
    "print(np.std(last_valid))"
   ]
  },
  {
   "cell_type": "markdown",
   "metadata": {},
   "source": [
    "### Method 2: random imputation\n",
    "The idea here is that, for the missing values, we want to fill them with values drawn randomly from their underlying distribution. We will use the existing values to infer the underlying distribution. This can be easily done for binary and categorical features. (How to do this for continous feature?)"
   ]
  },
  {
   "cell_type": "code",
   "execution_count": 13,
   "metadata": {
    "collapsed": true
   },
   "outputs": [],
   "source": [
    "# get distributions for a categorical feature\n",
    "def fill_w_distribution(s):\n",
    "    '''\n",
    "    Input\n",
    "    =======\n",
    "    s: <pd series>\n",
    "        with NaN as missing values. Binary or categorical feature\n",
    "    Return\n",
    "    =======\n",
    "    filled_s: <pd series>\n",
    "        without NaNs\n",
    "    '''\n",
    "    import numpy as np\n",
    "    \n",
    "    Xs = s.value_counts().index.values\n",
    "    p  = s.value_counts().values\n",
    "    p  = 1.0 * p / p.sum()\n",
    "    num_to_fill = s.isnull().sum()\n",
    "    idx_to_fill = s[s.isnull()].index\n",
    "    fills = np.random.choice(Xs, size=num_to_fill, p=p)\n",
    "    val_to_fill = pd.Series(fills, index=idx_to_fill)\n",
    "    # fill it!\n",
    "    filled_s = s.add(val_to_fill, fill_value=0)\n",
    "    \n",
    "    return filled_s"
   ]
  },
  {
   "cell_type": "code",
   "execution_count": 14,
   "metadata": {},
   "outputs": [],
   "source": [
    "df_train_impute_2 = df_train.copy()\n",
    "for c in df_train_impute_2.columns[2:]:\n",
    "    if c.endswith(('bin', 'cat')):\n",
    "        df_train_impute_2[c] = fill_w_distribution(df_train_impute_2[c])       \n",
    "# fill the continous NaN with median \n",
    "df_train_impute_2 = df_train_impute_2.fillna(df_train_impute_2.median())"
   ]
  },
  {
   "cell_type": "code",
   "execution_count": 15,
   "metadata": {},
   "outputs": [
    {
     "name": "stdout",
     "output_type": "stream",
     "text": [
      "Splitted training/test, and applied standard scaler.\n",
      "Total number of training samples: 565451\n"
     ]
    }
   ],
   "source": [
    "clf = my_xgb(df_train_impute_2[all_features], \n",
    "             df_train_impute_2['target'].astype(int, inplace=True))\n",
    "clf.input_scaling(ratio=0.05)"
   ]
  },
  {
   "cell_type": "code",
   "execution_count": 16,
   "metadata": {},
   "outputs": [
    {
     "name": "stdout",
     "output_type": "stream",
     "text": [
      "Performing 5 fold CV\n",
      "Fold 1 of 5\n",
      "class weight is: 26\n",
      "[0]\ttrain-gini:0.227758\tvalid-gini:0.207258\n",
      "Multiple eval metrics have been passed: 'valid-gini' will be used for early stopping.\n",
      "\n",
      "Will train until valid-gini hasn't improved in 100 rounds.\n",
      "[100]\ttrain-gini:0.389612\tvalid-gini:0.27981\n",
      "[200]\ttrain-gini:0.460674\tvalid-gini:0.278787\n",
      "Stopping. Best iteration:\n",
      "[138]\ttrain-gini:0.418906\tvalid-gini:0.281073\n",
      "\n",
      "Fold 2 of 5\n",
      "class weight is: 26\n",
      "[0]\ttrain-gini:0.231998\tvalid-gini:0.198477\n",
      "Multiple eval metrics have been passed: 'valid-gini' will be used for early stopping.\n",
      "\n",
      "Will train until valid-gini hasn't improved in 100 rounds.\n",
      "[100]\ttrain-gini:0.393472\tvalid-gini:0.265036\n",
      "[200]\ttrain-gini:0.463581\tvalid-gini:0.26509\n",
      "Stopping. Best iteration:\n",
      "[134]\ttrain-gini:0.420819\tvalid-gini:0.2665\n",
      "\n",
      "Fold 3 of 5\n",
      "class weight is: 26\n",
      "[0]\ttrain-gini:0.226431\tvalid-gini:0.213402\n",
      "Multiple eval metrics have been passed: 'valid-gini' will be used for early stopping.\n",
      "\n",
      "Will train until valid-gini hasn't improved in 100 rounds.\n",
      "[100]\ttrain-gini:0.387656\tvalid-gini:0.284234\n",
      "[200]\ttrain-gini:0.457001\tvalid-gini:0.283168\n",
      "Stopping. Best iteration:\n",
      "[117]\ttrain-gini:0.402096\tvalid-gini:0.285116\n",
      "\n",
      "Fold 4 of 5\n",
      "class weight is: 26\n",
      "[0]\ttrain-gini:0.229379\tvalid-gini:0.213721\n",
      "Multiple eval metrics have been passed: 'valid-gini' will be used for early stopping.\n",
      "\n",
      "Will train until valid-gini hasn't improved in 100 rounds.\n",
      "[100]\ttrain-gini:0.3878\tvalid-gini:0.290719\n",
      "[200]\ttrain-gini:0.455573\tvalid-gini:0.290106\n",
      "Stopping. Best iteration:\n",
      "[111]\ttrain-gini:0.396903\tvalid-gini:0.291491\n",
      "\n",
      "Fold 5 of 5\n",
      "class weight is: 26\n",
      "[0]\ttrain-gini:0.230742\tvalid-gini:0.20567\n",
      "Multiple eval metrics have been passed: 'valid-gini' will be used for early stopping.\n",
      "\n",
      "Will train until valid-gini hasn't improved in 100 rounds.\n",
      "[100]\ttrain-gini:0.389716\tvalid-gini:0.26015\n",
      "[200]\ttrain-gini:0.463313\tvalid-gini:0.25957\n",
      "Stopping. Best iteration:\n",
      "[158]\ttrain-gini:0.436753\tvalid-gini:0.26174\n",
      "\n"
     ]
    }
   ],
   "source": [
    "# clf.one_hot_encoding()\n",
    "models_impute_2, eval_results_impute_2 = clf.fit(one_hot=False)"
   ]
  },
  {
   "cell_type": "code",
   "execution_count": 17,
   "metadata": {},
   "outputs": [
    {
     "name": "stdout",
     "output_type": "stream",
     "text": [
      "0.274151\n",
      "0.0122478211777\n"
     ]
    }
   ],
   "source": [
    "last_training, last_valid, best_training, best_valid = get_gini_stats(eval_results_impute_2)\n",
    "print(np.mean(last_valid))\n",
    "print(np.std(last_valid))"
   ]
  },
  {
   "cell_type": "markdown",
   "metadata": {},
   "source": [
    "### Method 3: imputation with joint distribution\n",
    "The idea is that, we want to guess the missing values of one feature, with the joint distribution bewteen this feature and other features. In another word, we want to train a simple model to predict the missing values. A possible model can be Naive Bayes with Gaussian distribution. "
   ]
  },
  {
   "cell_type": "code",
   "execution_count": 20,
   "metadata": {},
   "outputs": [
    {
     "data": {
      "text/plain": [
       "id                     0\n",
       "target                 0\n",
       "ps_ind_01              0\n",
       "ps_ind_02_cat        216\n",
       "ps_ind_03              0\n",
       "ps_ind_04_cat         83\n",
       "ps_ind_05_cat       5809\n",
       "ps_ind_06_bin          0\n",
       "ps_ind_07_bin          0\n",
       "ps_ind_08_bin          0\n",
       "ps_ind_09_bin          0\n",
       "ps_ind_10_bin          0\n",
       "ps_ind_11_bin          0\n",
       "ps_ind_12_bin          0\n",
       "ps_ind_13_bin          0\n",
       "ps_ind_14              0\n",
       "ps_ind_15              0\n",
       "ps_ind_16_bin          0\n",
       "ps_ind_17_bin          0\n",
       "ps_ind_18_bin          0\n",
       "ps_reg_01              0\n",
       "ps_reg_02              0\n",
       "ps_reg_03         107772\n",
       "ps_car_01_cat        107\n",
       "ps_car_02_cat          5\n",
       "ps_car_03_cat     411231\n",
       "ps_car_04_cat          0\n",
       "ps_car_05_cat     266551\n",
       "ps_car_06_cat          0\n",
       "ps_car_07_cat      11489\n",
       "ps_car_08_cat          0\n",
       "ps_car_09_cat        569\n",
       "ps_car_10_cat          0\n",
       "ps_car_11_cat          0\n",
       "ps_car_11              5\n",
       "ps_car_12              1\n",
       "ps_car_13              0\n",
       "ps_car_14          42620\n",
       "ps_car_15              0\n",
       "ps_calc_01             0\n",
       "ps_calc_02             0\n",
       "ps_calc_03             0\n",
       "ps_calc_04             0\n",
       "ps_calc_05             0\n",
       "ps_calc_06             0\n",
       "ps_calc_07             0\n",
       "ps_calc_08             0\n",
       "ps_calc_09             0\n",
       "ps_calc_10             0\n",
       "ps_calc_11             0\n",
       "ps_calc_12             0\n",
       "ps_calc_13             0\n",
       "ps_calc_14             0\n",
       "ps_calc_15_bin         0\n",
       "ps_calc_16_bin         0\n",
       "ps_calc_17_bin         0\n",
       "ps_calc_18_bin         0\n",
       "ps_calc_19_bin         0\n",
       "ps_calc_20_bin         0\n",
       "dtype: int64"
      ]
     },
     "execution_count": 20,
     "metadata": {},
     "output_type": "execute_result"
    }
   ],
   "source": [
    "df_train.isnull().sum()"
   ]
  },
  {
   "cell_type": "markdown",
   "metadata": {
    "collapsed": true
   },
   "source": [
    "## Feature engineering"
   ]
  },
  {
   "cell_type": "code",
   "execution_count": 19,
   "metadata": {
    "collapsed": true
   },
   "outputs": [],
   "source": [
    "# TODO"
   ]
  }
 ],
 "metadata": {
  "kernelspec": {
   "display_name": "Python 2",
   "language": "python",
   "name": "python2"
  },
  "language_info": {
   "codemirror_mode": {
    "name": "ipython",
    "version": 2
   },
   "file_extension": ".py",
   "mimetype": "text/x-python",
   "name": "python",
   "nbconvert_exporter": "python",
   "pygments_lexer": "ipython2",
   "version": "2.7.13"
  }
 },
 "nbformat": 4,
 "nbformat_minor": 2
}
